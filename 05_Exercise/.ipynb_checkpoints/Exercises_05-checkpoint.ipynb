{
 "cells": [
  {
   "cell_type": "markdown",
   "metadata": {},
   "source": [
    "## NOTEBOOK 05\n",
    "\n",
    "In this notebook we will use the Metropolis algorithm in order to obtain an estimation of the expectation value of the radius of $H$ when the electron has a wavefunction $\\Psi_{1,0,0}$  or $\\Psi_{2,1,0}$.\n",
    "\n",
    "Since the evaluation of an expectation value is the calculation of an integral and the squared modulus $|\\Psi(\\vec{r},t)|^2$ can be interpreted as a density probability function, the use of the Metropolis algorithm is well suited."
   ]
  },
  {
   "cell_type": "markdown",
   "metadata": {},
   "source": [
    "### EXERCISE 05.1\n",
    "\n",
    "As said before, in this exercise the calculation of $\\left\\langle r \\right\\rangle_{\\Psi_{1,0,0}}$ and $\\left\\langle r \\right\\rangle_{\\Psi_{2,1,0}}$ is required.\n",
    "\n",
    "First things first, we expand the expression in order to see the integral we have to calculate:\n",
    "\n",
    "$$ \\left\\langle r \\right\\rangle_{\\Psi_{1,0,0}}= \\int  d\\vec{r} \\quad r|\\Psi(\\vec{r})|^2 = \\int dr d\\theta d\\phi \\quad r^{3}\\sin{\\theta}\\frac{a_{0}^{-3}}{\\pi}e^{-\\frac{2r}{a_{0}}} $$\n",
    "\n",
    "\n",
    "Since $\\int d\\vec{r} |\\Psi(\\vec{r})|^2 = 1$, this will be our probability density function from which we have to extract the sample. The sampling procedure will be done by using the Metropolis algorithm."
   ]
  },
  {
   "cell_type": "code",
   "execution_count": null,
   "metadata": {},
   "outputs": [],
   "source": [
    "import numpy as np\n",
    "import matplotlib.pyplot as plt\n",
    "\n",
    "data1=open(\"expect_r_1s.dat\",'r').read().split('\\n')\n",
    "data2=open(\"expect_r_2p.dat\",'r').read().split('\\n')\n",
    "\n",
    "data1=[x.split(',') for x in range(len(data1))]\n",
    "data2=[x.split(',') for x in range(len(data2))]\n",
    "\n",
    "x1=[]\n",
    "y1=[]\n",
    "y1_err=[]\n",
    "\n",
    "x2=[]\n",
    "\n"
   ]
  },
  {
   "cell_type": "code",
   "execution_count": null,
   "metadata": {},
   "outputs": [],
   "source": []
  }
 ],
 "metadata": {
  "kernelspec": {
   "display_name": "Python 3",
   "language": "python",
   "name": "python3"
  },
  "language_info": {
   "codemirror_mode": {
    "name": "ipython",
    "version": 3
   },
   "file_extension": ".py",
   "mimetype": "text/x-python",
   "name": "python",
   "nbconvert_exporter": "python",
   "pygments_lexer": "ipython3",
   "version": "3.7.4"
  }
 },
 "nbformat": 4,
 "nbformat_minor": 2
}
